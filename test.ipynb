{
 "cells": [
  {
   "cell_type": "code",
   "execution_count": 1,
   "metadata": {},
   "outputs": [
    {
     "name": "stdout",
     "output_type": "stream",
     "text": [
      "Shape: (2, 3)\n",
      "Dimensions: 2\n",
      "Size: 6\n",
      "Data type: int32\n",
      "Item size: 4\n"
     ]
    }
   ],
   "source": [
    "# 1\n",
    "import numpy as np\n",
    "\n",
    "arr = np.array([[1, 2, 3], [4, 5, 6]])\n",
    "print(\"Shape:\", arr.shape)  # (2, 3)\n",
    "print(\"Dimensions:\", arr.ndim)  # 2\n",
    "print(\"Size:\", arr.size)  # 6\n",
    "print(\"Data type:\", arr.dtype)  # int64 (или float64 в зависимости от платформы)\n",
    "print(\"Item size:\", arr.itemsize)  # 8 (для int64)\n"
   ]
  },
  {
   "cell_type": "code",
   "execution_count": 2,
   "metadata": {},
   "outputs": [
    {
     "name": "stdout",
     "output_type": "stream",
     "text": [
      "[1 2 3]\n",
      "[0 2 4 6 8]\n",
      "[[0. 0. 0.]\n",
      " [0. 0. 0.]]\n",
      "[[1. 1. 1. 1.]\n",
      " [1. 1. 1. 1.]\n",
      " [1. 1. 1. 1.]]\n",
      "[[1. 0. 0.]\n",
      " [0. 1. 0.]\n",
      " [0. 0. 1.]]\n",
      "[[5.36369536e-080 8.82893714e+199]\n",
      " [1.99432122e+209 2.53970787e+151]]\n",
      "[[1 0 0]\n",
      " [0 2 0]\n",
      " [0 0 3]]\n",
      "[[0.78027366 0.01627421]\n",
      " [0.83369947 0.45671392]]\n",
      "[[0 8 7]\n",
      " [3 9 8]\n",
      " [7 3 5]]\n"
     ]
    }
   ],
   "source": [
    "# 2\n",
    "array_from_list = np.array([1, 2, 3])\n",
    "arange_array = np.arange(0, 10, 2)\n",
    "zeros_array = np.zeros((2, 3))\n",
    "ones_array = np.ones((3, 4))\n",
    "identity_matrix = np.eye(3)\n",
    "empty_array = np.empty((2, 2))\n",
    "diag_matrix = np.diag([1, 2, 3])\n",
    "random_arr = np.random.rand(2, 2)\n",
    "randint_arr = np.random.randint(0, 10, size=(3, 3))\n",
    "\n",
    "print(array_from_list)\n",
    "print(arange_array)\n",
    "print(zeros_array)\n",
    "print(ones_array)\n",
    "print(identity_matrix)\n",
    "print(empty_array)\n",
    "print(diag_matrix)\n",
    "print(random_arr)\n",
    "print(randint_arr)\n"
   ]
  },
  {
   "cell_type": "code",
   "execution_count": 3,
   "metadata": {},
   "outputs": [
    {
     "name": "stdout",
     "output_type": "stream",
     "text": [
      "Element: 6\n",
      "Sub-array: [2 3]\n",
      "Filtered array: [4 5 6]\n"
     ]
    }
   ],
   "source": [
    "# 3\n",
    "arr = np.array([[1, 2, 3], [4, 5, 6]])\n",
    "\n",
    "# Индексация\n",
    "element = arr[1, 2]  # 6\n",
    "\n",
    "# Сечения\n",
    "sub_array = arr[0, 1:3]  # [2, 3]\n",
    "\n",
    "# Маски\n",
    "mask = arr > 3\n",
    "filtered_array = arr[mask]  # [4, 5, 6]\n",
    "\n",
    "print(\"Element:\", element)\n",
    "print(\"Sub-array:\", sub_array)\n",
    "print(\"Filtered array:\", filtered_array)\n"
   ]
  },
  {
   "cell_type": "code",
   "execution_count": 4,
   "metadata": {},
   "outputs": [
    {
     "name": "stdout",
     "output_type": "stream",
     "text": [
      "[ 1 10  3  4  5]\n",
      "[10  3  4]\n",
      "[ 1 10  3  4  5]\n",
      "[100  10   3   4   5]\n"
     ]
    }
   ],
   "source": [
    "#4\n",
    "arr = np.array([1, 2, 3, 4, 5])\n",
    "view_arr = arr[1:4]  # представление\n",
    "view_arr[0] = 10  # изменяем значение в представлении\n",
    "\n",
    "print(arr)      # [ 1 10  3  4  5]\n",
    "print(view_arr) # [10  3  4]\n",
    "\n",
    "# ----\n",
    "\n",
    "copy_arr = arr.copy()\n",
    "copy_arr[0] = 100\n",
    "\n",
    "print(arr)      # [ 1 10  3  4  5]\n",
    "print(copy_arr) # [100 10  3  4  5]\n"
   ]
  },
  {
   "cell_type": "code",
   "execution_count": 6,
   "metadata": {},
   "outputs": [
    {
     "name": "stdout",
     "output_type": "stream",
     "text": [
      "arr1: [1 2 3]\n",
      "arr2: [4 5 6]\n",
      "Сумма массивов (sum_array): [5 7 9]\n",
      "Произведение массивов (prod_array): [ 4 10 18]\n",
      "Сравнение (arr1 > 2): [False False  True]\n",
      "Сумма элементов arr1: 6\n",
      "Среднее значение arr1: 2.0\n",
      "Стандартное отклонение arr1: 0.816496580927726\n",
      "Результат трансляции (a + b):\n",
      "[[11 22 33]\n",
      " [14 25 36]]\n"
     ]
    }
   ],
   "source": [
    "# 5\n",
    "# Создаем массивы\n",
    "arr1 = np.array([1, 2, 3])\n",
    "arr2 = np.array([4, 5, 6])\n",
    "\n",
    "# Арифметические операции\n",
    "sum_array = arr1 + arr2  # Сумма массивов\n",
    "prod_array = arr1 * arr2  # Произведение массивов\n",
    "\n",
    "# Сравнение массивов\n",
    "comparison = arr1 > 2  # Сравнение с 2\n",
    "\n",
    "# Математические функции\n",
    "total = np.sum(arr1)  # Сумма элементов\n",
    "mean = np.mean(arr1)  # Среднее значение\n",
    "std_dev = np.std(arr1)  # Стандартное отклонение\n",
    "\n",
    "# Транслирование (broadcasting)\n",
    "a = np.array([[1, 2, 3], [4, 5, 6]])\n",
    "b = np.array([10, 20, 30])  # Одномерный массив\n",
    "result = a + b  # Сложение с трансляцией\n",
    "\n",
    "# Вывод результатов\n",
    "print(\"arr1:\", arr1)\n",
    "print(\"arr2:\", arr2)\n",
    "print(\"Сумма массивов (sum_array):\", sum_array)\n",
    "print(\"Произведение массивов (prod_array):\", prod_array)\n",
    "print(\"Сравнение (arr1 > 2):\", comparison)\n",
    "print(\"Сумма элементов arr1:\", total)\n",
    "print(\"Среднее значение arr1:\", mean)\n",
    "print(\"Стандартное отклонение arr1:\", std_dev)\n",
    "print(\"Результат трансляции (a + b):\")\n",
    "print(result)\n"
   ]
  },
  {
   "cell_type": "markdown",
   "metadata": {},
   "source": [
    "# 1\n",
    "ndarray (n-dimensional array) — основной класс библиотеки NumPy, который представляет многомерные массивы. Вот его основные свойства и атрибуты:\n",
    "\n",
    "- ndarray.shape: возвращает кортеж, представляющий размеры массива по каждому измерению.\n",
    "- ndarray.ndim: количество измерений (ранг массива).\n",
    "- ndarray.size: общее количество элементов в массиве.\n",
    "- ndarray.dtype: тип данных элементов в массиве (например, int, float и т.д.).\n",
    "- ndarray.itemsize: размер в байтах одного элемента массива.\n",
    "- ndarray.data: буфер, содержащий данные массива.\n",
    "\n",
    "\n",
    "# 2\n",
    "NumPy предоставляет множество функций для создания массивов. Вот основные из них:\n",
    "\n",
    "- np.array(): создает массив из объекта Python (например, списка).\n",
    "- np.arange(start, stop, step): создает массив с равномерно распределенными значениями в указанном диапазоне.\n",
    "- np.zeros(shape): создает массив указанной формы, заполненный нулями.\n",
    "- np.ones(shape): создает массив указанной формы, заполненный единицами.\n",
    "- np.eye(n): создает единичную матрицу размером n x n.\n",
    "- np.empty(shape): создает массив указанной формы без инициализации значений (содержимое не определено).\n",
    "- np.diag(v, k=0): создает диагональную матрицу из вектора v (если k=0, то диагональ главная).\n",
    "- np.random.rand(d0, d1, ..., dn): создает массив, заполненный случайными числами из равномерного распределения на отрезке [0.0, 1.0).\n",
    "- np.random.randint(low, high=None, size=None): генерирует массив случайных целых чисел в заданном диапазоне.\n",
    "\n",
    "# 3\n",
    "Индексация массивов в NumPy позволяет получать доступ к элементам массива с помощью индексов.\n",
    "\n",
    "- Индексация: позволяет получать элементы массива по их позициям.\n",
    "- Сечения (slicing): позволяет получать подмасивы. Например, arr[1:3] вернет элементы с индексами 1 и 2.\n",
    "- Маски: использование булевых массивов для включения или исключения элементов при вычислениях. Пример: arr[arr > 0] вернет только положительные элементы из arr.\n",
    "\n",
    "# 4\n",
    "Представление в NumPy — это способ ссылаться на тот же объект данных, не создавая новую копию массива. Это полезно для экономии памяти и производительности. Когда вы изменяете элементы представления, исходный массив также изменяется. Это происходит, когда вы используете сечения.\n",
    "\n",
    "# 5\n",
    "NumPy предоставляет множество функций для выполнения различных операций:\n",
    "\n",
    "- Арифметические действия: можно выполнять операции как с массивами, так и с отдельными числами (транслирование).\n",
    "- Сравнение: можно сравнивать массивы с помощью операторов сравнения, результатом будет булев массив.\n",
    "- Математические функции: NumPy содержит множество математических функций, таких как np.sum(), np.mean(), np.std(), которые работают на массивах.\n",
    "- Транслирование (broadcasting): позволяет выполнять операции над массивами разной формы. NumPy автоматически «расширит» меньший массив до формы большего.\n",
    "Транслирование (broadcasting) в NumPy — это механизм, позволяющий выполнять арифметические операции над массивами разной формы. Он автоматически расширяет меньший массив до формы большего, чтобы соответствовать размерностям.\n",
    "Транслирование может работать для двух массивов в том случае, если их размерности совместимы: их длина равна, или длина одной из них — 1. Если эти условия не соблюдены, возникает исключение, сообщающее, что два массива не совместимы"
   ]
  }
 ],
 "metadata": {
  "kernelspec": {
   "display_name": "Python 3",
   "language": "python",
   "name": "python3"
  },
  "language_info": {
   "codemirror_mode": {
    "name": "ipython",
    "version": 3
   },
   "file_extension": ".py",
   "mimetype": "text/x-python",
   "name": "python",
   "nbconvert_exporter": "python",
   "pygments_lexer": "ipython3",
   "version": "3.11.9"
  }
 },
 "nbformat": 4,
 "nbformat_minor": 2
}
