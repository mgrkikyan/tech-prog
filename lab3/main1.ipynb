{
 "cells": [
  {
   "cell_type": "markdown",
   "metadata": {},
   "source": [
    "\n",
    "---\n",
    "\n",
    "**Задание:**  \n",
    "1. Запишите определение точки локального минимума функции одной вещественной переменной.  \n",
    "2. Найдите точки экстремума функции $ f(x) = e^{x^2} - x $ и определите их тип (минимум или максимум).\n",
    "\n",
    "---"
   ]
  },
  {
   "cell_type": "code",
   "execution_count": 6,
   "metadata": {},
   "outputs": [
    {
     "name": "stdout",
     "output_type": "stream",
     "text": [
      "exp(-LambertW(1/2)/2)/2 является локальным минимумом\n",
      "Приближённое значение: 0.419364824019132\n"
     ]
    }
   ],
   "source": [
    "import sympy as sp\n",
    "# Объявляем переменную x\n",
    "x = sp.symbols('x')\n",
    "# Определяем функцию\n",
    "f = sp.exp(x**2) - x\n",
    "# Первая производная\n",
    "d1 = sp.diff(f, x)\n",
    "# Критические точки (решения уравнения d1 == 0)\n",
    "critical_points = sp.solve(d1, x)\n",
    "# Вторая производная\n",
    "d2 = sp.diff(d1, x)\n",
    "# Проверка знаков второй производной для каждого критического значения\n",
    "for point in critical_points:\n",
    "    d2_value = d2.subs(x, point)\n",
    "    # Оцениваем знак второй производной\n",
    "    if d2_value > 0:\n",
    "        print(f\"{point} является локальным минимумом\")\n",
    "    elif d2_value < 0:\n",
    "        print(f\"{point} является локальным максимумом\")\n",
    "    else:\n",
    "        print(f\"{point} это не является ни минимумом, ни максимумом\")\n",
    "\n",
    "for point in critical_points:\n",
    "    print(f\"Приближённое значение: {point.evalf()}\")"
   ]
  },
  {
   "cell_type": "markdown",
   "metadata": {},
   "source": [
    "**Определение функции Ламберта**\n",
    "\n",
    "LambertW(x) — это функция, обратная к $y = x e^x$. Она находит такое число $w$, что $w e^w = x$. В выражении $\\exp(-\\operatorname{LambertW}(\\frac{1}{2})/2)/2$ сначала вычисляется значение LambertW для аргумента 1/2, затем результат делится на 2, берется отрицательное значение, после чего вычисляется экспонента и всё делится на 2."
   ]
  }
 ],
 "metadata": {
  "kernelspec": {
   "display_name": "Python 3",
   "language": "python",
   "name": "python3"
  },
  "language_info": {
   "codemirror_mode": {
    "name": "ipython",
    "version": 3
   },
   "file_extension": ".py",
   "mimetype": "text/x-python",
   "name": "python",
   "nbconvert_exporter": "python",
   "pygments_lexer": "ipython3",
   "version": "3.11.9"
  }
 },
 "nbformat": 4,
 "nbformat_minor": 2
}
