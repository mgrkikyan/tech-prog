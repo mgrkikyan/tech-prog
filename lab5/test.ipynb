{
 "cells": [
  {
   "cell_type": "markdown",
   "metadata": {},
   "source": [
    "1. Функция plt.plot и её параметры.\n",
    "2. Определение собственных значений и собственных векторов матрицы.Функция np.linalg.eig.\n",
    "3. Центральная предельная теорема Ляпунова. Нормально распределеннаяслучайная величина.\n",
    "4. Функция plt.hist. Нормализованная гистограмма"
   ]
  },
  {
   "cell_type": "code",
   "execution_count": null,
   "metadata": {},
   "outputs": [
    {
     "data": {
      "text/plain": [
       "[<matplotlib.lines.Line2D at 0x2cdd2bd8790>]"
      ]
     },
     "execution_count": 10,
     "metadata": {},
     "output_type": "execute_result"
    },
    {
     "data": {
      "image/png": "[encoded data removed]",
      "text/plain": [
       "<Figure size 640x480 with 1 Axes>"
      ]
     },
     "metadata": {},
     "output_type": "display_data"
    }
   ],
   "source": [
    "import matplotlib.pyplot as plt\n",
    "import numpy as np\n",
    "# type(np.linalg.eig)\n",
    "type(plt.plot)\n",
    "plt.plot([1, 2, 3, 4]) # массив это y, а x - 0,1,2,3"
   ]
  },
  {
   "cell_type": "markdown",
   "metadata": {},
   "source": [
    "### Вопрос №1: Функция plt.plot и её параметры\n",
    "\n",
    "Функция `plt.plot` предназначена для построения двумерных графиков в библиотеке Matplotlib. Основные параметры данной функции включают:\n",
    "\n",
    "- **x**: массив координат по оси X.\n",
    "- **y**: массив координат по оси Y.\n",
    "- **fmt**: формат строки, позволяющий задать тип маркера, линию и цвет (например, `\"ro\"` обозначает красный кружок).\n",
    "- **label**: метка для легенды.\n",
    "- **color**: цвет линии.\n",
    "- **linestyle**: стиль линии (`'-'`, `'--'`, `'-.'`, `':'`).\n",
    "- **linewidth**: толщина линии.\n",
    "- **marker**: форма маркера (`'o'`, `'^'`, `'*'`, и т.п.).\n",
    "- **markersize**: размер маркера.\n",
    "- **alpha**: прозрачность линии (значения от 0 до 1).\n",
    "\n",
    "Простейшие примеры использования:\n",
    "```python\n",
    "import numpy as np\n",
    "import matplotlib.pyplot as plt\n",
    "\n",
    "phi = np.linspace(0, 2*np.pi, 100)\n",
    "plt.plot(phi, np.sin(phi), label=\"Синус\")\n",
    "plt.plot(phi, np.cos(phi), label=\"Косинус\")\n",
    "plt.legend()\n",
    "plt.show()\n",
    "```\n",
    "\n",
    "Более детализированный пример с указанием форматов линий и цветов:\n",
    "```python\n",
    "x = np.linspace(0, 1, 100)\n",
    "f1 = 0.25 - (x - 0.5)**2\n",
    "f2 = x**3\n",
    "plt.plot(x, f1, \":b\")      # пунктирная синяя линия\n",
    "plt.plot(x, f2, \"--r\")     # штриховая красная линия\n",
    "plt.plot(x, f1+f2, \"k\")    # чёрная непрерывная линия\n",
    "plt.show()\n",
    "```\n",
    "\n",
    "---\n",
    "\n",
    "### Вопрос №2: Определение собственных значений и собственных векторов матрицы. Функция np.linalg.eig\n",
    "\n",
    "Собственное значение ($\\lambda$) и собственный вектор ($\\mathbf{v}$) матрицы $\\mathbf{A}$ удовлетворяют уравнению:\n",
    "$$\n",
    "\\mathbf{A}\\mathbf{v} = \\lambda\\mathbf{v}\n",
    "$$\n",
    "\n",
    "Здесь $\\mathbf{v}$ — ненулевой вектор, $\\lambda$ — скаляр, называемый собственным значением.\n",
    "\n",
    "Чтобы вычислить собственные значения и собственные векторы матрицы в Python, используют функцию `np.linalg.eig`. Данная функция возвращает кортеж из двух элементов:\n",
    "\n",
    "- Первый элемент — массив собственных значений.\n",
    "- Второй элемент — матрица, столбцами которой являются соответствующие собственные векторы.\n",
    "\n",
    "Примеры использования:\n",
    "```python\n",
    "import numpy as np\n",
    "\n",
    "# Создаем квадратную матрицу\n",
    "matrix = np.array([[4, -2],\n",
    "                   [-2, 1]])\n",
    "\n",
    "eigenvalues, eigenvectors = np.linalg.eig(matrix)\n",
    "\n",
    "print(\"Собственные значения:\", eigenvalues)\n",
    "print(\"Собственные векторы:\")\n",
    "print(eigenvectors)\n",
    "```\n",
    "\n",
    "Эта функция особенно важна в линейной алгебре и анализе матриц, позволяя решать разнообразные задачи, такие как диагонализация матриц, анализ устойчивости динамических систем и многое другое.\n",
    "\n",
    "---\n",
    "\n",
    "### Вопрос №3: Центральная предельная теорема Ляпунова. Нормально распределённая случайная величина\n",
    "\n",
    "Центральная предельная теорема (ЦПТ) — одна из фундаментальных в статистике.\n",
    "\n",
    "Она говорит, что если у нас много независимых случайных величин с любым распределением (при определённых условиях, например, конечной дисперсии и выполнении условия Ляпунова), то среднее этих величин приблизится по распределению к нормальному (гауссовскому) распределению, когда количество слагаемых становится большим.\n",
    "\n",
    "Это объясняет, почему в природе часто встречается \"колоколообразное\" распределение (нормальное распределение).\n",
    "\n",
    "Нормально распределённая случайная величина \\( X \\) имеет плотность:\n",
    "\n",
    "\\[\n",
    "f(x) = \\frac{1}{\\sqrt{2 \\pi \\sigma^2}} e^{-\\frac{(x - \\mu)^2}{2 \\sigma^2}}\n",
    "\\]\n",
    "\n",
    "где\n",
    "- \\(\\mu\\) — математическое ожидание,\n",
    "- \\(\\sigma^2\\) — дисперсия.\n",
    "\n",
    "### Вопрос №4: Функция plt.hist. Нормализованная гистограмма\n",
    "\n",
    "Функция `plt.hist()` в Matplotlib предназначена для построения гистограмм, позволяющих визуально оценить распределение данных. Основными параметрами функции являются:\n",
    "\n",
    "- **x**: входные данные.\n",
    "- **bins**: количество интервалов (\"бинов\"), на которое разбивается область значений.\n",
    "- **range**: диапазон значений, покрываемый гистограммой.\n",
    "- **density**: логический параметр, включающий нормализацию гистограммы таким образом, чтобы суммарная площадь прямоугольников равнялась 1.\n",
    "- **weights**: весовые коэффициенты для каждого элемента массива.\n",
    "\n",
    "Приведём пример использования нормализованной гистограммы:\n",
    "\n",
    "```python\n",
    "import numpy as np\n",
    "import matplotlib.pyplot as plt\n",
    "\n",
    "# Генерируем случайные данные\n",
    "data = np.random.randn(1000)\n",
    "\n",
    "# Строим нормализованную гистограмму\n",
    "plt.hist(data, bins=30, density=True, alpha=0.7, color=\"green\")\n",
    "plt.title(\"Нормализованная гистограмма\")\n",
    "plt.xlabel(\"Значение\")\n",
    "plt.ylabel(\"Плотность\")\n",
    "plt.show()\n",
    "```\n",
    "\n",
    "В результате построения нормализованной гистограммы высота каждого прямоугольника пропорциональна доле данных, попадающих в соответствующий бин, а вся площадь гистограммы равна 1. Такой подход удобен для сопоставления различных распределений и выявления закономерностей в структуре данных. ​​​​"
   ]
  },
  {
   "cell_type": "markdown",
   "metadata": {},
   "source": [
    "Нормализованная гистограмма - это такая гистограмма, в которой сумма частот равна ровно 1"
   ]
  },
  {
   "cell_type": "markdown",
   "metadata": {},
   "source": [
    "![Image text](slide-0.jpg)"
   ]
  }
 ],
 "metadata": {
  "kernelspec": {
   "display_name": "Python 3",
   "language": "python",
   "name": "python3"
  },
  "language_info": {
   "codemirror_mode": {
    "name": "ipython",
    "version": 3
   },
   "file_extension": ".py",
   "mimetype": "text/x-python",
   "name": "python",
   "nbconvert_exporter": "python",
   "pygments_lexer": "ipython3",
   "version": "3.11.9"
  }
 },
 "nbformat": 4,
 "nbformat_minor": 2
}
